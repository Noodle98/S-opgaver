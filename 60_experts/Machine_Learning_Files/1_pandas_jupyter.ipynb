{
 "cells": [
  {
   "cell_type": "code",
   "execution_count": null,
   "id": "initial_id",
   "metadata": {
    "collapsed": true,
    "is_executing": true
   },
   "outputs": [],
   "source": [
    "import pandas as pd\n",
    "from IPython.display import display\n",
    "\n",
    "# Simpel DataFrame hvor fx \"0\", \"Yes\" er lig med 50, og \"0\", \"No\" er lig med 131.\n",
    "display(pd.DataFrame({'Yes': [50, 21], 'No': [131, 2]}))\n",
    "\n",
    "dict_bob_and_sue = {'Bob': ['I liked it', 'It was awful'], 'Sue': ['Pretty good', 'Bland']}\n",
    "# Vi bruger pd til at generere DataFrame objects.\n",
    "# Syntaksen for at lave en Dataframe, er et dictionary hvor keys er columns,\n",
    "# Og values er lister af entries\n",
    "display(pd.DataFrame(dict_bob_and_sue))\n",
    "\n",
    "# Constructor'en tildeler automatisk row labels fra index 0 og op.\n",
    "# Det kan dog ændres ved at bruge \"index\" argumentet efter dictionary'en, som i følgende eksempel:\n",
    "display(pd.DataFrame(dict_bob_and_sue, index=['Product A', 'Product B']))"
   ]
  },
  {
   "cell_type": "code",
   "execution_count": null,
   "outputs": [],
   "source": [],
   "metadata": {
    "collapsed": false,
    "is_executing": true
   },
   "id": "dfacba0ebc568413"
  },
  {
   "cell_type": "code",
   "execution_count": null,
   "outputs": [],
   "source": [],
   "metadata": {
    "collapsed": false
   },
   "id": "3e26ddf56649cd36"
  }
 ],
 "metadata": {
  "kernelspec": {
   "display_name": "Python 3",
   "language": "python",
   "name": "python3"
  },
  "language_info": {
   "codemirror_mode": {
    "name": "ipython",
    "version": 2
   },
   "file_extension": ".py",
   "mimetype": "text/x-python",
   "name": "python",
   "nbconvert_exporter": "python",
   "pygments_lexer": "ipython2",
   "version": "2.7.6"
  }
 },
 "nbformat": 4,
 "nbformat_minor": 5
}
