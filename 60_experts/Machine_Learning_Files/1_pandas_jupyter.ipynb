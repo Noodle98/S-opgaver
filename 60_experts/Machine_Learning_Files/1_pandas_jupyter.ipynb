{
 "cells": [
  {
   "cell_type": "code",
   "id": "initial_id",
   "metadata": {
    "collapsed": true,
    "is_executing": true,
    "ExecuteTime": {
     "end_time": "2024-09-02T11:56:57.302417Z",
     "start_time": "2024-09-02T11:56:57.289751Z"
    }
   },
   "source": [
    "import pandas as pd\n",
    "\n",
    "# Simpel DataFrame hvor fx \"0\", \"Yes\" er lig med 50, og \"0\", \"No\" er lig med 131.\n",
    "pd.DataFrame({'Yes': [50, 21], 'No': [131, 2]})\n",
    "\n",
    "dict_bob_and_sue = {'Bob': ['I liked it', 'It was awful'], 'Sue': ['Pretty good', 'Bland']}\n",
    "# Vi bruger pd til at generere DataFrame objects.\n",
    "# Syntaksen for at lave en Dataframe, er et dictionary hvor keys er columns,\n",
    "# Og values er lister af entries\n",
    "pd.DataFrame(dict_bob_and_sue)\n",
    "\n",
    "# Constructor'en tildeler automatisk row labels fra index 0 og op.\n",
    "# Det kan dog ændres ved at bruge \"index\" argumentet efter dictionary'en, som i følgende eksempel:\n",
    "pd.DataFrame(dict_bob_and_sue, index=['Product A', 'Product B']).style"
   ],
   "outputs": [
    {
     "data": {
      "text/plain": [
       "<pandas.io.formats.style.Styler at 0x1858f5c6390>"
      ],
      "text/html": [
       "<style type=\"text/css\">\n",
       "</style>\n",
       "<table id=\"T_3d11e\">\n",
       "  <thead>\n",
       "    <tr>\n",
       "      <th class=\"blank level0\" >&nbsp;</th>\n",
       "      <th id=\"T_3d11e_level0_col0\" class=\"col_heading level0 col0\" >Bob</th>\n",
       "      <th id=\"T_3d11e_level0_col1\" class=\"col_heading level0 col1\" >Sue</th>\n",
       "    </tr>\n",
       "  </thead>\n",
       "  <tbody>\n",
       "    <tr>\n",
       "      <th id=\"T_3d11e_level0_row0\" class=\"row_heading level0 row0\" >Product A</th>\n",
       "      <td id=\"T_3d11e_row0_col0\" class=\"data row0 col0\" >I liked it</td>\n",
       "      <td id=\"T_3d11e_row0_col1\" class=\"data row0 col1\" >Pretty good</td>\n",
       "    </tr>\n",
       "    <tr>\n",
       "      <th id=\"T_3d11e_level0_row1\" class=\"row_heading level0 row1\" >Product B</th>\n",
       "      <td id=\"T_3d11e_row1_col0\" class=\"data row1 col0\" >It was awful</td>\n",
       "      <td id=\"T_3d11e_row1_col1\" class=\"data row1 col1\" >Bland</td>\n",
       "    </tr>\n",
       "  </tbody>\n",
       "</table>\n"
      ]
     },
     "execution_count": 3,
     "metadata": {},
     "output_type": "execute_result"
    }
   ],
   "execution_count": 3
  },
  {
   "cell_type": "code",
   "source": [],
   "metadata": {
    "collapsed": false,
    "is_executing": true,
    "ExecuteTime": {
     "end_time": "2024-09-02T11:56:43.733576Z",
     "start_time": "2024-09-02T11:56:43.725322Z"
    }
   },
   "id": "dfacba0ebc568413",
   "outputs": [],
   "execution_count": null
  },
  {
   "cell_type": "code",
   "execution_count": null,
   "outputs": [],
   "source": [],
   "metadata": {
    "collapsed": false,
    "is_executing": true
   },
   "id": "3e26ddf56649cd36"
  },
  {
   "cell_type": "code",
   "execution_count": null,
   "outputs": [],
   "source": [],
   "metadata": {
    "collapsed": false
   },
   "id": "d9600fd589bf5da5"
  }
 ],
 "metadata": {
  "kernelspec": {
   "display_name": "Python 3",
   "language": "python",
   "name": "python3"
  },
  "language_info": {
   "codemirror_mode": {
    "name": "ipython",
    "version": 2
   },
   "file_extension": ".py",
   "mimetype": "text/x-python",
   "name": "python",
   "nbconvert_exporter": "python",
   "pygments_lexer": "ipython2",
   "version": "2.7.6"
  }
 },
 "nbformat": 4,
 "nbformat_minor": 5
}
